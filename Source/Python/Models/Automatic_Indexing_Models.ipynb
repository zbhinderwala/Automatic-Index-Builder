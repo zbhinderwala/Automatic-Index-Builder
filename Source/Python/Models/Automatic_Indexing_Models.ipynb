{
 "cells": [
  {
   "cell_type": "code",
   "execution_count": 358,
   "metadata": {
    "collapsed": true
   },
   "outputs": [],
   "source": [
    "\n",
    "import pandas as pd\n",
    "import numpy as np\n",
    "import math\n",
    "from sklearn.metrics import mean_squared_error\n",
    "from sklearn.metrics import mean_absolute_error\n",
    "from sklearn.metrics import r2_score\n"
   ]
  },
  {
   "cell_type": "code",
   "execution_count": 359,
   "metadata": {},
   "outputs": [
    {
     "data": {
      "text/plain": [
       "(2144, 9)"
      ]
     },
     "execution_count": 359,
     "metadata": {},
     "output_type": "execute_result"
    }
   ],
   "source": [
    "\n",
    "#### Reading the training properties file ####\n",
    "training_properties = pd.read_csv(\"Training_Properties.csv\", low_memory=False)\n",
    "training_properties['word'] = training_properties['word'].str.lower()\n",
    "training_properties = training_properties.drop_duplicates(['word'],keep='first')\n",
    "\n",
    "#### Reading the Clusters.csv ####\n",
    "training_clusters = pd.read_csv(\"Training_Clusters.csv\", low_memory=False)\n",
    "\n",
    "\n",
    "#### Merging the clusters and training to include only the centroids as a part of training set ####\n",
    "training_final = pd.merge(training_properties, training_clusters, how = 'left', left_on=['word','source'], right_on = ['word','source'])\n",
    "training_final = training_final.dropna()\n",
    "training_final.shape"
   ]
  },
  {
   "cell_type": "code",
   "execution_count": 360,
   "metadata": {
    "collapsed": true
   },
   "outputs": [],
   "source": [
    "\n",
    "#### Processing the data - adding features ####\n",
    "\n",
    "#### Adding tf_idf ( term frequency - inverse document frequency ) to the training set ####\n",
    "doc_count = 3332956\n",
    "training_final = training_final.fillna(1)\n",
    "training_final['volume_count'] = pd.to_numeric(training_final.volume_count, errors='coerce')\n",
    "training_final['tf_idf'] =  training_final['frequency']/training_final['wordCount'] \n",
    "training_final['tf_idf'] =  training_final['tf_idf']*(training_final['volume_count'].apply(lambda x: math.log(doc_count/(2+x),10)))\n",
    "\n",
    "\n",
    "#### Adding the pos_rank - rank for every parts of speech ####\n",
    "training_final['pos_rank'] = 2\n",
    "training_final.loc[training_final.pos == 'NN' , 'pos_rank'] = 14\n",
    "training_final.loc[training_final.pos == 'JJ' , 'pos_rank' ] = 7\n",
    "training_final.loc[training_final.pos == 'NNS' , 'pos_rank'] = 6\n",
    "training_final.loc[training_final.pos == 'NNP' , 'pos_rank' ] = 6\n",
    "training_final.loc[training_final.pos == 'VBP' , 'pos_rank' ] = 3\n"
   ]
  },
  {
   "cell_type": "code",
   "execution_count": 361,
   "metadata": {},
   "outputs": [
    {
     "data": {
      "text/html": [
       "<div>\n",
       "<style>\n",
       "    .dataframe thead tr:only-child th {\n",
       "        text-align: right;\n",
       "    }\n",
       "\n",
       "    .dataframe thead th {\n",
       "        text-align: left;\n",
       "    }\n",
       "\n",
       "    .dataframe tbody tr th {\n",
       "        vertical-align: top;\n",
       "    }\n",
       "</style>\n",
       "<table border=\"1\" class=\"dataframe\">\n",
       "  <thead>\n",
       "    <tr style=\"text-align: right;\">\n",
       "      <th></th>\n",
       "      <th>word</th>\n",
       "      <th>n_gram_score</th>\n",
       "      <th>pos</th>\n",
       "      <th>frequency</th>\n",
       "      <th>match_count</th>\n",
       "      <th>volume_count</th>\n",
       "      <th>source</th>\n",
       "      <th>wordCount</th>\n",
       "      <th>clusters</th>\n",
       "      <th>tf_idf</th>\n",
       "      <th>pos_rank</th>\n",
       "      <th>score</th>\n",
       "    </tr>\n",
       "  </thead>\n",
       "  <tbody>\n",
       "    <tr>\n",
       "      <th>1250</th>\n",
       "      <td>continuous dimension</td>\n",
       "      <td>10</td>\n",
       "      <td>NN</td>\n",
       "      <td>170</td>\n",
       "      <td>1816</td>\n",
       "      <td>1431</td>\n",
       "      <td>2</td>\n",
       "      <td>79875</td>\n",
       "      <td>Continuous Dimension, Continuous dimension, co...</td>\n",
       "      <td>0.007165</td>\n",
       "      <td>14</td>\n",
       "      <td>1.003126</td>\n",
       "    </tr>\n",
       "    <tr>\n",
       "      <th>1253</th>\n",
       "      <td>dimension scale</td>\n",
       "      <td>10</td>\n",
       "      <td>NN</td>\n",
       "      <td>136</td>\n",
       "      <td>1392</td>\n",
       "      <td>658</td>\n",
       "      <td>2</td>\n",
       "      <td>79875</td>\n",
       "      <td>Dimension Scale, Dimension Scale\", Dimension S...</td>\n",
       "      <td>0.006305</td>\n",
       "      <td>14</td>\n",
       "      <td>0.882761</td>\n",
       "    </tr>\n",
       "    <tr>\n",
       "      <th>7539</th>\n",
       "      <td>positive energy</td>\n",
       "      <td>10</td>\n",
       "      <td>NN</td>\n",
       "      <td>385</td>\n",
       "      <td>60277</td>\n",
       "      <td>30217</td>\n",
       "      <td>5</td>\n",
       "      <td>145045</td>\n",
       "      <td>positive confirms, positive energies, positive...</td>\n",
       "      <td>0.005422</td>\n",
       "      <td>14</td>\n",
       "      <td>0.759029</td>\n",
       "    </tr>\n",
       "    <tr>\n",
       "      <th>7547</th>\n",
       "      <td>relational definition</td>\n",
       "      <td>10</td>\n",
       "      <td>NN</td>\n",
       "      <td>196</td>\n",
       "      <td>1403</td>\n",
       "      <td>991</td>\n",
       "      <td>5</td>\n",
       "      <td>145045</td>\n",
       "      <td>contradictory definition, fundamental definiti...</td>\n",
       "      <td>0.004765</td>\n",
       "      <td>14</td>\n",
       "      <td>0.667035</td>\n",
       "    </tr>\n",
       "    <tr>\n",
       "      <th>7536</th>\n",
       "      <td>negative energy</td>\n",
       "      <td>10</td>\n",
       "      <td>JJ</td>\n",
       "      <td>642</td>\n",
       "      <td>67987</td>\n",
       "      <td>26954</td>\n",
       "      <td>5</td>\n",
       "      <td>145045</td>\n",
       "      <td>Inegative energy, Mnegative energy, Negative E...</td>\n",
       "      <td>0.009260</td>\n",
       "      <td>7</td>\n",
       "      <td>0.648229</td>\n",
       "    </tr>\n",
       "  </tbody>\n",
       "</table>\n",
       "</div>"
      ],
      "text/plain": [
       "                       word  n_gram_score pos  frequency  match_count  \\\n",
       "1250   continuous dimension            10  NN        170         1816   \n",
       "1253        dimension scale            10  NN        136         1392   \n",
       "7539        positive energy            10  NN        385        60277   \n",
       "7547  relational definition            10  NN        196         1403   \n",
       "7536        negative energy            10  JJ        642        67987   \n",
       "\n",
       "      volume_count  source  wordCount  \\\n",
       "1250          1431       2      79875   \n",
       "1253           658       2      79875   \n",
       "7539         30217       5     145045   \n",
       "7547           991       5     145045   \n",
       "7536         26954       5     145045   \n",
       "\n",
       "                                               clusters    tf_idf  pos_rank  \\\n",
       "1250  Continuous Dimension, Continuous dimension, co...  0.007165        14   \n",
       "1253  Dimension Scale, Dimension Scale\", Dimension S...  0.006305        14   \n",
       "7539  positive confirms, positive energies, positive...  0.005422        14   \n",
       "7547  contradictory definition, fundamental definiti...  0.004765        14   \n",
       "7536  Inegative energy, Mnegative energy, Negative E...  0.009260         7   \n",
       "\n",
       "         score  \n",
       "1250  1.003126  \n",
       "1253  0.882761  \n",
       "7539  0.759029  \n",
       "7547  0.667035  \n",
       "7536  0.648229  "
      ]
     },
     "execution_count": 361,
     "metadata": {},
     "output_type": "execute_result"
    }
   ],
   "source": [
    "\n",
    "#### Scoring the training properties ####\n",
    "training_final['score'] = 0\n",
    "for index,row in training_final.iterrows():\n",
    "    score = ((row['pos_rank'] * row['n_gram_score']))*row['tf_idf'] \n",
    "    training_final.loc[index , 'score'] = score\n",
    "    \n",
    "training_final = training_final.sort_values(['score'], ascending=False)\n",
    "training_final_2 = training_final.copy()\n",
    "training_final.head()"
   ]
  },
  {
   "cell_type": "code",
   "execution_count": 362,
   "metadata": {},
   "outputs": [],
   "source": [
    "#### MODEL 1 : Predicting using the clustering and scoring function ####\n",
    "\n",
    "res1_file1 = training_final.loc[training_final.source == 1]\n",
    "res5_file5 = training_final.loc[training_final.source == 5]\n"
   ]
  },
  {
   "cell_type": "code",
   "execution_count": 363,
   "metadata": {
    "collapsed": true
   },
   "outputs": [],
   "source": [
    "\n",
    "#### Evaluating MODEL 1 ####\n",
    "def match_count(predicted, actual):\n",
    "    count = 0\n",
    "    pred_copy = predicted\n",
    "    act_copy = actual\n",
    "    for str in predicted:\n",
    "        if (actual.count(str) >= 1):\n",
    "            count = count + 1\n",
    "            act_copy.remove(str)\n",
    "            pred_copy.remove(str)\n",
    "    left_pred = pred_copy\n",
    "    left_act = act_copy[:]\n",
    "    match = False\n",
    "    for index in act_copy:\n",
    "            for str in pred_copy:\n",
    "                if(index.find(str) != -1):\n",
    "                    count = count + 1\n",
    "                    match = True\n",
    "                    left_pred.remove(str)\n",
    "                    \n",
    "            if match:\n",
    "                left_act.remove(index)\n",
    "    list = [count, len(pred_copy),len(act_copy)]\n",
    "    return list\n"
   ]
  },
  {
   "cell_type": "code",
   "execution_count": 364,
   "metadata": {},
   "outputs": [
    {
     "data": {
      "text/plain": [
       "[133, 311, 439]"
      ]
     },
     "execution_count": 364,
     "metadata": {},
     "output_type": "execute_result"
    }
   ],
   "source": [
    "actual_indices_5 = Indexes_Actual.loc[Indexes_Actual.source == 5]\n",
    "pred_file5 = match_count(list(res5_file5['word'][:444].values),list(actual_indices_5['word'].values) )\n",
    "pred_file5"
   ]
  },
  {
   "cell_type": "code",
   "execution_count": 365,
   "metadata": {},
   "outputs": [
    {
     "data": {
      "text/plain": [
       "[7, 16, 22]"
      ]
     },
     "execution_count": 365,
     "metadata": {},
     "output_type": "execute_result"
    }
   ],
   "source": [
    "actual_indices_1 = Indexes_Actual.loc[Indexes_Actual.source == 1]\n",
    "pred_file1 = match_count1(list(res1_file1['word'][:23].values),list(actual_indices_1['word'].values) )\n",
    "pred_file1[:-1]\n"
   ]
  },
  {
   "cell_type": "code",
   "execution_count": 366,
   "metadata": {
    "collapsed": true
   },
   "outputs": [],
   "source": [
    "#### Finding/Matching the indices in the training set ####\n",
    "\n",
    "def match_count1(predicted, actual):\n",
    "    count = 0\n",
    "    index_words = []\n",
    "    pred_copy = predicted\n",
    "    act_copy = actual\n",
    "    for str in predicted:\n",
    "        if (actual.count(str) >= 1):\n",
    "            count = count + 1\n",
    "            act_copy.remove(str)\n",
    "            pred_copy.remove(str)\n",
    "            index_words.append(str)\n",
    "    left_pred = pred_copy\n",
    "    left_act = act_copy[:]\n",
    "    match = False\n",
    "    for index in act_copy:\n",
    "            for str in pred_copy:\n",
    "                if(index.find(str) != -1):\n",
    "                    count = count + 1\n",
    "                    match = True\n",
    "                    left_pred.remove(str)\n",
    "                    index_words.append(str)\n",
    "            if match:\n",
    "                left_act.remove(index)\n",
    "    list = [count, len(pred_copy),len(act_copy),index_words]\n",
    "    return list\n"
   ]
  },
  {
   "cell_type": "code",
   "execution_count": 367,
   "metadata": {},
   "outputs": [],
   "source": [
    "\n",
    "#### Reading the actual indices of the files used for training ####\n",
    "Indexes_Actual = pd.read_csv(\"Training_Indexes.csv\", low_memory=False)\n",
    "\n",
    "res = match_count1(list(training_final['word'].values) , list(Indexes_Actual['word'].values))\n",
    "\n",
    "\n",
    "def is_index():\n",
    "    training_final['is_index'] = 0\n",
    "    for item in res[3]:\n",
    "        training_final.loc[training_final.word == item  , 'is_index'] = 1\n",
    "        \n",
    "is_index()\n"
   ]
  },
  {
   "cell_type": "code",
   "execution_count": 368,
   "metadata": {},
   "outputs": [
    {
     "name": "stderr",
     "output_type": "stream",
     "text": [
      "C:\\Users\\vamsidhar\\Anaconda3\\lib\\site-packages\\sklearn\\utils\\validation.py:526: DataConversionWarning: A column-vector y was passed when a 1d array was expected. Please change the shape of y to (n_samples, ), for example using ravel().\n",
      "  y = column_or_1d(y, warn=True)\n"
     ]
    },
    {
     "data": {
      "text/plain": [
       "LogisticRegression(C=1.0, class_weight='balanced', dual=False,\n",
       "          fit_intercept=True, intercept_scaling=1, max_iter=100,\n",
       "          multi_class='ovr', n_jobs=1, penalty='l2', random_state=None,\n",
       "          solver='liblinear', tol=0.0001, verbose=0, warm_start=False)"
      ]
     },
     "execution_count": 368,
     "metadata": {},
     "output_type": "execute_result"
    }
   ],
   "source": [
    "\n",
    "#### MODEL 2 : Logistic Regression ####\n",
    "\n",
    "from sklearn.linear_model import LogisticRegression\n",
    "from sklearn.cross_validation import train_test_split\n",
    "logistic = LogisticRegression(class_weight = \"balanced\")\n",
    "training_features = ['score']\n",
    "target = ['is_index']\n",
    "train_x , test_x, train_y , test_y = train_test_split(training_final[training_features] , training_final[target] , train_size=0.8)\n",
    "logistic.fit(train_x,train_y)\n"
   ]
  },
  {
   "cell_type": "code",
   "execution_count": 369,
   "metadata": {},
   "outputs": [
    {
     "data": {
      "text/plain": [
       "0.75276967930029159"
      ]
     },
     "execution_count": 369,
     "metadata": {},
     "output_type": "execute_result"
    }
   ],
   "source": [
    "\n",
    "#### Predicting for new files ####\n",
    "accuracy = logistic.score(train_x , train_y)\n",
    "accuracy"
   ]
  },
  {
   "cell_type": "code",
   "execution_count": 370,
   "metadata": {},
   "outputs": [
    {
     "data": {
      "text/plain": [
       "0.75291375291375295"
      ]
     },
     "execution_count": 370,
     "metadata": {},
     "output_type": "execute_result"
    }
   ],
   "source": [
    "accuracy = logistic.score(test_x , test_y)\n",
    "accuracy"
   ]
  },
  {
   "cell_type": "code",
   "execution_count": 371,
   "metadata": {},
   "outputs": [
    {
     "data": {
      "text/plain": [
       "0.49707770729157336"
      ]
     },
     "execution_count": 371,
     "metadata": {},
     "output_type": "execute_result"
    }
   ],
   "source": [
    "#### Mean Squared Error ####\n",
    "\n",
    "pred_y = logistic.predict(test_x)\n",
    "np.sqrt(mean_squared_error(test_y, pred_y))"
   ]
  },
  {
   "cell_type": "code",
   "execution_count": 372,
   "metadata": {},
   "outputs": [
    {
     "data": {
      "text/plain": [
       "0.24708624708624707"
      ]
     },
     "execution_count": 372,
     "metadata": {},
     "output_type": "execute_result"
    }
   ],
   "source": [
    "#### Mean Absolute Error ####\n",
    "mean_absolute_error(test_y, pred_y)"
   ]
  },
  {
   "cell_type": "code",
   "execution_count": 373,
   "metadata": {},
   "outputs": [
    {
     "data": {
      "text/plain": [
       "-0.62872492836676241"
      ]
     },
     "execution_count": 373,
     "metadata": {},
     "output_type": "execute_result"
    }
   ],
   "source": [
    "#### R2_score ####\n",
    "r2_score(test_y,pred_y)"
   ]
  },
  {
   "cell_type": "code",
   "execution_count": 270,
   "metadata": {},
   "outputs": [
    {
     "name": "stderr",
     "output_type": "stream",
     "text": [
      "C:\\Users\\vamsidhar\\Anaconda3\\lib\\site-packages\\ipykernel_launcher.py:8: SettingWithCopyWarning: \n",
      "A value is trying to be set on a copy of a slice from a DataFrame.\n",
      "Try using .loc[row_indexer,col_indexer] = value instead\n",
      "\n",
      "See the caveats in the documentation: http://pandas.pydata.org/pandas-docs/stable/indexing.html#indexing-view-versus-copy\n",
      "  \n"
     ]
    },
    {
     "data": {
      "text/plain": [
       "48          unitary conjugation\n",
       "43                matrix convex\n",
       "10                free circular\n",
       "63                linear pencil\n",
       "139                 pencil ball\n",
       "105             circular matrix\n",
       "140           reducing subspace\n",
       "33                  cross terms\n",
       "252                  monic free\n",
       "112           free spectrahedra\n",
       "92                   direct sum\n",
       "71         unitarily equivalent\n",
       "141          separation theorem\n",
       "47                 spectrahedra\n",
       "111            free polynomials\n",
       "1                        matrix\n",
       "257    orthogonal decomposition\n",
       "126               circular free\n",
       "19                     subspace\n",
       "189       relatively irrational\n",
       "65            positive integers\n",
       "166                 free matrix\n",
       "366               free analysis\n",
       "Name: word, dtype: object"
      ]
     },
     "execution_count": 270,
     "metadata": {},
     "output_type": "execute_result"
    }
   ],
   "source": [
    "#### Evaluating MODEL 2 ####\n",
    "\n",
    "circular = training_final.loc[training_final_2.source == 1]\n",
    "\n",
    "training_features = ['score']\n",
    "test_x = circular[training_features]\n",
    "pred_y = logistic.predict(test_x)\n",
    "circular['is_index_pred'] = pred_y\n",
    "inds = circular.loc[circular.is_index_pred == 1]\n",
    "inds = inds.drop_duplicates(['word'],keep='first')\n",
    "inds = inds.sort_values(['score'], ascending=False)\n",
    "inds['word'][:23]"
   ]
  },
  {
   "cell_type": "code",
   "execution_count": 271,
   "metadata": {},
   "outputs": [
    {
     "data": {
      "text/plain": [
       "[9, 30, 22]"
      ]
     },
     "execution_count": 271,
     "metadata": {},
     "output_type": "execute_result"
    }
   ],
   "source": [
    "actual_indices_1 = Indexes_Actual.loc[Indexes_Actual.source == 1]\n",
    "res_1 = match_count(list(inds['word'].values) , list(actual_indices_1['word'].values))\n",
    "res_1"
   ]
  },
  {
   "cell_type": "code",
   "execution_count": 260,
   "metadata": {},
   "outputs": [
    {
     "name": "stderr",
     "output_type": "stream",
     "text": [
      "C:\\Users\\vamsidhar\\Anaconda3\\lib\\site-packages\\ipykernel_launcher.py:6: SettingWithCopyWarning: \n",
      "A value is trying to be set on a copy of a slice from a DataFrame.\n",
      "Try using .loc[row_indexer,col_indexer] = value instead\n",
      "\n",
      "See the caveats in the documentation: http://pandas.pydata.org/pandas-docs/stable/indexing.html#indexing-view-versus-copy\n",
      "  \n"
     ]
    },
    {
     "data": {
      "text/plain": [
       "(99, 14)"
      ]
     },
     "execution_count": 260,
     "metadata": {},
     "output_type": "execute_result"
    }
   ],
   "source": [
    "matters_of_time = training_final.loc[training_final_2.source == 5]\n",
    "\n",
    "training_features = ['score']\n",
    "test_x = matters_of_time[training_features]\n",
    "pred_y = logistic.predict(test_x)\n",
    "matters_of_time['is_index_pred'] = pred_y\n",
    "inds = matters_of_time.loc[matters_of_time.is_index_pred == 1]\n",
    "inds = inds.drop_duplicates(['word'],keep='first')\n",
    "inds = inds.sort_values(['score'], ascending=False)\n",
    "inds.shape"
   ]
  },
  {
   "cell_type": "code",
   "execution_count": 262,
   "metadata": {},
   "outputs": [
    {
     "data": {
      "text/plain": [
       "[50, 49, 442]"
      ]
     },
     "execution_count": 262,
     "metadata": {},
     "output_type": "execute_result"
    }
   ],
   "source": [
    "actual_indices_5 = Indexes_Actual.loc[Indexes_Actual.source == 5]\n",
    "res_5 = match_count(list(inds['word'][:99].values) , list(actual_indices_5['word'].values))\n",
    "res_5"
   ]
  },
  {
   "cell_type": "code",
   "execution_count": 374,
   "metadata": {},
   "outputs": [
    {
     "name": "stderr",
     "output_type": "stream",
     "text": [
      "C:\\Users\\vamsidhar\\Anaconda3\\lib\\site-packages\\ipykernel_launcher.py:11: DataConversionWarning: A column-vector y was passed when a 1d array was expected. Please change the shape of y to (n_samples,), for example using ravel().\n",
      "  # This is added back by InteractiveShellApp.init_path()\n"
     ]
    },
    {
     "data": {
      "text/plain": [
       "0.74404712860273359"
      ]
     },
     "execution_count": 374,
     "metadata": {},
     "output_type": "execute_result"
    }
   ],
   "source": [
    "#### MODEL 3 : Random Forest Regression ####\n",
    "\n",
    "## Using Random forests\n",
    "from sklearn.ensemble import RandomForestRegressor\n",
    "from sklearn.cross_validation import train_test_split\n",
    "regr = RandomForestRegressor(max_depth=30, random_state=0)\n",
    "\n",
    "training_features = ['tf_idf','score','n_gram_score']\n",
    "target = ['is_index']\n",
    "train_x , test_x, train_y , test_y = train_test_split(training_final[training_features] , training_final[target] , train_size=0.8)\n",
    "regr.fit(train_x,train_y)\n",
    "accuracy = regr.score(train_x , train_y)\n",
    "accuracy\n"
   ]
  },
  {
   "cell_type": "code",
   "execution_count": 375,
   "metadata": {},
   "outputs": [
    {
     "data": {
      "text/plain": [
       "-0.19905698728050036"
      ]
     },
     "execution_count": 375,
     "metadata": {},
     "output_type": "execute_result"
    }
   ],
   "source": [
    "accuracy = regr.score(test_x , test_y)\n",
    "accuracy#### Mean Squared Error ####\n"
   ]
  },
  {
   "cell_type": "code",
   "execution_count": 376,
   "metadata": {},
   "outputs": [
    {
     "data": {
      "text/plain": [
       "0.42022251169649422"
      ]
     },
     "execution_count": 376,
     "metadata": {},
     "output_type": "execute_result"
    }
   ],
   "source": [
    "## Mean Squared Error ##\n",
    "pred_y = regr.predict(test_x)\n",
    "np.sqrt(mean_squared_error(test_y, pred_y))"
   ]
  },
  {
   "cell_type": "code",
   "execution_count": 377,
   "metadata": {},
   "outputs": [
    {
     "data": {
      "text/plain": [
       "0.25851650531712383"
      ]
     },
     "execution_count": 377,
     "metadata": {},
     "output_type": "execute_result"
    }
   ],
   "source": [
    "#### Mean Absolute Error ####\n",
    "mean_absolute_error(test_y, pred_y)"
   ]
  },
  {
   "cell_type": "code",
   "execution_count": 378,
   "metadata": {},
   "outputs": [
    {
     "data": {
      "text/plain": [
       "-0.19905698728050036"
      ]
     },
     "execution_count": 378,
     "metadata": {},
     "output_type": "execute_result"
    }
   ],
   "source": [
    "#### R2 score ####\n",
    "r2_score(test_y, pred_y)"
   ]
  },
  {
   "cell_type": "code",
   "execution_count": 301,
   "metadata": {},
   "outputs": [
    {
     "name": "stderr",
     "output_type": "stream",
     "text": [
      "C:\\Users\\vamsidhar\\Anaconda3\\lib\\site-packages\\ipykernel_launcher.py:5: SettingWithCopyWarning: \n",
      "A value is trying to be set on a copy of a slice from a DataFrame.\n",
      "Try using .loc[row_indexer,col_indexer] = value instead\n",
      "\n",
      "See the caveats in the documentation: http://pandas.pydata.org/pandas-docs/stable/indexing.html#indexing-view-versus-copy\n",
      "  \"\"\"\n"
     ]
    },
    {
     "data": {
      "text/plain": [
       "48      unitary conjugation\n",
       "43            matrix convex\n",
       "10            free circular\n",
       "47             spectrahedra\n",
       "25              conjugation\n",
       "30               coordinate\n",
       "23                 operator\n",
       "354                diagonal\n",
       "269                   space\n",
       "1100               property\n",
       "Name: word, dtype: object"
      ]
     },
     "execution_count": 301,
     "metadata": {},
     "output_type": "execute_result"
    }
   ],
   "source": [
    "#### Evaluating MODEL 3 ####\n",
    "training_features = ['tf_idf','score','n_gram_score']\n",
    "test_x = circular[training_features]\n",
    "pred_y = regr.predict(test_x)\n",
    "circular['is_index_pred'] = pred_y\n",
    "inds = circular.loc[circular.is_index_pred == 1]\n",
    "inds['word']\n"
   ]
  },
  {
   "cell_type": "code",
   "execution_count": 302,
   "metadata": {},
   "outputs": [
    {
     "data": {
      "text/plain": [
       "[5, 5, 22]"
      ]
     },
     "execution_count": 302,
     "metadata": {},
     "output_type": "execute_result"
    }
   ],
   "source": [
    "actual_indices_1 = Indexes_Actual.loc[Indexes_Actual.source == 1]\n",
    "res_1 = match_count(list(inds['word'].values) , list(actual_indices_1['word'].values))\n",
    "res_1"
   ]
  },
  {
   "cell_type": "code",
   "execution_count": 303,
   "metadata": {},
   "outputs": [
    {
     "name": "stderr",
     "output_type": "stream",
     "text": [
      "C:\\Users\\vamsidhar\\Anaconda3\\lib\\site-packages\\ipykernel_launcher.py:4: SettingWithCopyWarning: \n",
      "A value is trying to be set on a copy of a slice from a DataFrame.\n",
      "Try using .loc[row_indexer,col_indexer] = value instead\n",
      "\n",
      "See the caveats in the documentation: http://pandas.pydata.org/pandas-docs/stable/indexing.html#indexing-view-versus-copy\n",
      "  after removing the cwd from sys.path.\n"
     ]
    },
    {
     "data": {
      "text/plain": [
       "7539           positive energy\n",
       "7547     relational definition\n",
       "7536           negative energy\n",
       "7555         discrete symmetry\n",
       "7542       gravitational field\n",
       "7550             negative mass\n",
       "7549          direction degree\n",
       "7534             gravitational\n",
       "7684    gravitation elementary\n",
       "7541                  reversal\n",
       "8840       elevator experiment\n",
       "7659                antimatter\n",
       "7926     operations invariance\n",
       "7825    operations fundamental\n",
       "9659     transition constraint\n",
       "7723                 redefined\n",
       "8403                   respond\n",
       "Name: word, dtype: object"
      ]
     },
     "execution_count": 303,
     "metadata": {},
     "output_type": "execute_result"
    }
   ],
   "source": [
    "training_features = ['tf_idf','score','n_gram_score']\n",
    "test_x = matters_of_time[training_features]\n",
    "pred_y = regr.predict(test_x)\n",
    "matters_of_time['is_index_pred'] = pred_y\n",
    "inds = matters_of_time.loc[matters_of_time.is_index_pred == 1]\n",
    "inds['word']"
   ]
  },
  {
   "cell_type": "code",
   "execution_count": 304,
   "metadata": {},
   "outputs": [
    {
     "data": {
      "text/plain": [
       "[16, 1, 443]"
      ]
     },
     "execution_count": 304,
     "metadata": {},
     "output_type": "execute_result"
    }
   ],
   "source": [
    "actual_indices_5 = Indexes_Actual.loc[Indexes_Actual.source == 5]\n",
    "res_5 = match_count(list(inds['word'].values) , list(actual_indices_5['word'].values))\n",
    "res_5"
   ]
  },
  {
   "cell_type": "code",
   "execution_count": 305,
   "metadata": {},
   "outputs": [
    {
     "data": {
      "text/plain": [
       "0.57113440476489652"
      ]
     },
     "execution_count": 305,
     "metadata": {},
     "output_type": "execute_result"
    }
   ],
   "source": [
    "from sklearn import tree\n",
    "clf1 = tree.DecisionTreeRegressor(max_depth=15)\n",
    "training_features = ['score']\n",
    "target = ['is_index']\n",
    "train_x , test_x, train_y , test_y = train_test_split(training_final[training_features] , training_final[target] , train_size=0.8)\n",
    "clf1.fit(train_x,train_y)\n",
    "accuracy = clf1.score(train_x , train_y)\n",
    "accuracy"
   ]
  },
  {
   "cell_type": "code",
   "execution_count": 306,
   "metadata": {},
   "outputs": [
    {
     "data": {
      "text/plain": [
       "-0.48721338043862233"
      ]
     },
     "execution_count": 306,
     "metadata": {},
     "output_type": "execute_result"
    }
   ],
   "source": [
    "accuracy = clf1.score(test_x , test_y)\n",
    "accuracy"
   ]
  },
  {
   "cell_type": "code",
   "execution_count": 307,
   "metadata": {},
   "outputs": [
    {
     "name": "stderr",
     "output_type": "stream",
     "text": [
      "C:\\Users\\vamsidhar\\Anaconda3\\lib\\site-packages\\ipykernel_launcher.py:5: SettingWithCopyWarning: \n",
      "A value is trying to be set on a copy of a slice from a DataFrame.\n",
      "Try using .loc[row_indexer,col_indexer] = value instead\n",
      "\n",
      "See the caveats in the documentation: http://pandas.pydata.org/pandas-docs/stable/indexing.html#indexing-view-versus-copy\n",
      "  \"\"\"\n"
     ]
    },
    {
     "data": {
      "text/plain": [
       "48      unitary conjugation\n",
       "43            matrix convex\n",
       "10            free circular\n",
       "63            linear pencil\n",
       "139             pencil ball\n",
       "92               direct sum\n",
       "1                    matrix\n",
       "25              conjugation\n",
       "2                   unitary\n",
       "17                invariant\n",
       "107             commutative\n",
       "116               symmetric\n",
       "44                  minimal\n",
       "243              inequality\n",
       "67                  section\n",
       "254                    norm\n",
       "354                diagonal\n",
       "359               equations\n",
       "148                  define\n",
       "447               algebraic\n",
       "58                 balanced\n",
       "163                elements\n",
       "269                   space\n",
       "933               generated\n",
       "671              separating\n",
       "859              determines\n",
       "290                function\n",
       "127                complete\n",
       "787             classifying\n",
       "347           corresponding\n",
       "1183               straight\n",
       "360                   exist\n",
       "Name: word, dtype: object"
      ]
     },
     "execution_count": 307,
     "metadata": {},
     "output_type": "execute_result"
    }
   ],
   "source": [
    "#### Evaluating MODEL 3 ####\n",
    "training_features = ['score']\n",
    "test_x = circular[training_features]\n",
    "pred_y = clf1.predict(test_x)\n",
    "circular['is_index_pred'] = pred_y\n",
    "inds = circular.loc[circular.is_index_pred == 1]\n",
    "inds['word']"
   ]
  },
  {
   "cell_type": "code",
   "execution_count": null,
   "metadata": {
    "collapsed": true
   },
   "outputs": [],
   "source": []
  }
 ],
 "metadata": {
  "kernelspec": {
   "display_name": "Python 3",
   "language": "python",
   "name": "python3"
  },
  "language_info": {
   "codemirror_mode": {
    "name": "ipython",
    "version": 3
   },
   "file_extension": ".py",
   "mimetype": "text/x-python",
   "name": "python",
   "nbconvert_exporter": "python",
   "pygments_lexer": "ipython3",
   "version": "3.6.1"
  }
 },
 "nbformat": 4,
 "nbformat_minor": 2
}
