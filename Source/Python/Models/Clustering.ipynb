{
 "cells": [
  {
   "cell_type": "code",
   "execution_count": 21,
   "metadata": {
    "collapsed": true
   },
   "outputs": [],
   "source": [
    "import numpy as np\n",
    "import sklearn.cluster\n",
    "import pandas as pd\n",
    "Circular_df = pd.read_csv('..\\..\\CSV\\Parsed Data\\Circular.csv')"
   ]
  },
  {
   "cell_type": "code",
   "execution_count": 2,
   "metadata": {},
   "outputs": [
    {
     "data": {
      "text/html": [
       "<div>\n",
       "<style>\n",
       "    .dataframe thead tr:only-child th {\n",
       "        text-align: right;\n",
       "    }\n",
       "\n",
       "    .dataframe thead th {\n",
       "        text-align: left;\n",
       "    }\n",
       "\n",
       "    .dataframe tbody tr th {\n",
       "        vertical-align: top;\n",
       "    }\n",
       "</style>\n",
       "<table border=\"1\" class=\"dataframe\">\n",
       "  <thead>\n",
       "    <tr style=\"text-align: right;\">\n",
       "      <th></th>\n",
       "      <th>word</th>\n",
       "      <th>n_gram_score</th>\n",
       "      <th>pos</th>\n",
       "      <th>frequency</th>\n",
       "      <th>tf_idf</th>\n",
       "      <th>inf</th>\n",
       "      <th>match_count</th>\n",
       "      <th>volume_count</th>\n",
       "      <th>source</th>\n",
       "    </tr>\n",
       "  </thead>\n",
       "  <tbody>\n",
       "    <tr>\n",
       "      <th>0</th>\n",
       "      <td>free</td>\n",
       "      <td>2</td>\n",
       "      <td>JJ</td>\n",
       "      <td>100</td>\n",
       "      <td>0.090033</td>\n",
       "      <td>-0.018395</td>\n",
       "      <td>68139641</td>\n",
       "      <td>3033401</td>\n",
       "      <td>1</td>\n",
       "    </tr>\n",
       "    <tr>\n",
       "      <th>1</th>\n",
       "      <td>matrix</td>\n",
       "      <td>2</td>\n",
       "      <td>NN</td>\n",
       "      <td>62</td>\n",
       "      <td>0.055820</td>\n",
       "      <td>-0.013670</td>\n",
       "      <td>10320779</td>\n",
       "      <td>527649</td>\n",
       "      <td>1</td>\n",
       "    </tr>\n",
       "    <tr>\n",
       "      <th>2</th>\n",
       "      <td>unitary</td>\n",
       "      <td>2</td>\n",
       "      <td>JJ</td>\n",
       "      <td>42</td>\n",
       "      <td>0.037814</td>\n",
       "      <td>-0.010510</td>\n",
       "      <td>905129</td>\n",
       "      <td>220821</td>\n",
       "      <td>1</td>\n",
       "    </tr>\n",
       "    <tr>\n",
       "      <th>3</th>\n",
       "      <td>follows</td>\n",
       "      <td>2</td>\n",
       "      <td>VBZ</td>\n",
       "      <td>40</td>\n",
       "      <td>0.036013</td>\n",
       "      <td>-0.010159</td>\n",
       "      <td>32209213</td>\n",
       "      <td>2493640</td>\n",
       "      <td>1</td>\n",
       "    </tr>\n",
       "    <tr>\n",
       "      <th>4</th>\n",
       "      <td>circular</td>\n",
       "      <td>2</td>\n",
       "      <td>JJ</td>\n",
       "      <td>38</td>\n",
       "      <td>0.034212</td>\n",
       "      <td>-0.009800</td>\n",
       "      <td>5956410</td>\n",
       "      <td>1186938</td>\n",
       "      <td>1</td>\n",
       "    </tr>\n",
       "  </tbody>\n",
       "</table>\n",
       "</div>"
      ],
      "text/plain": [
       "       word  n_gram_score  pos  frequency    tf_idf       inf  match_count  \\\n",
       "0      free             2   JJ        100  0.090033 -0.018395     68139641   \n",
       "1    matrix             2   NN         62  0.055820 -0.013670     10320779   \n",
       "2   unitary             2   JJ         42  0.037814 -0.010510       905129   \n",
       "3   follows             2  VBZ         40  0.036013 -0.010159     32209213   \n",
       "4  circular             2   JJ         38  0.034212 -0.009800      5956410   \n",
       "\n",
       "   volume_count  source  \n",
       "0       3033401       1  \n",
       "1        527649       1  \n",
       "2        220821       1  \n",
       "3       2493640       1  \n",
       "4       1186938       1  "
      ]
     },
     "execution_count": 2,
     "metadata": {},
     "output_type": "execute_result"
    }
   ],
   "source": [
    "Circular_df.head()"
   ]
  },
  {
   "cell_type": "code",
   "execution_count": 3,
   "metadata": {
    "collapsed": true
   },
   "outputs": [],
   "source": [
    "words=np.array(Circular_df['word'])"
   ]
  },
  {
   "cell_type": "code",
   "execution_count": 22,
   "metadata": {
    "collapsed": true
   },
   "outputs": [],
   "source": [
    "import Levenshtein\n"
   ]
  },
  {
   "cell_type": "code",
   "execution_count": 23,
   "metadata": {
    "collapsed": true
   },
   "outputs": [],
   "source": [
    "lev_similarity = -1*np.array([[Levenshtein.distance(w1,w2) for w1 in words] for w2 in words])\n",
    "\n",
    "affprop = sklearn.cluster.AffinityPropagation(affinity=\"precomputed\", damping=0.5)\n",
    "affprop.fit(lev_similarity)\n",
    "centroids = []\n",
    "clusters=[]\n",
    "for cluster_id in np.unique(affprop.labels_):\n",
    "    exemplar = words[affprop.cluster_centers_indices_[cluster_id]]\n",
    "    cluster = np.unique(words[np.nonzero(affprop.labels_==cluster_id)])\n",
    "    cluster_str = \", \".join(cluster)\n",
    "    centroids.append(exemplar)\n",
    "    clusters.append(cluster_str)"
   ]
  },
  {
   "cell_type": "code",
   "execution_count": 24,
   "metadata": {},
   "outputs": [
    {
     "data": {
      "text/plain": [
       "203"
      ]
     },
     "execution_count": 24,
     "metadata": {},
     "output_type": "execute_result"
    }
   ],
   "source": [
    "len(centroids)"
   ]
  },
  {
   "cell_type": "code",
   "execution_count": 27,
   "metadata": {
    "collapsed": true
   },
   "outputs": [],
   "source": [
    "cols = ['centroid','clusters']\n",
    "cluster_df=pd.DataFrame(columns=cols)\n",
    "cluster_df['centroid']=centroids\n",
    "cluster_df['clusters']=clusters"
   ]
  },
  {
   "cell_type": "code",
   "execution_count": 28,
   "metadata": {},
   "outputs": [
    {
     "data": {
      "text/html": [
       "<div>\n",
       "<style>\n",
       "    .dataframe thead tr:only-child th {\n",
       "        text-align: right;\n",
       "    }\n",
       "\n",
       "    .dataframe thead th {\n",
       "        text-align: left;\n",
       "    }\n",
       "\n",
       "    .dataframe tbody tr th {\n",
       "        vertical-align: top;\n",
       "    }\n",
       "</style>\n",
       "<table border=\"1\" class=\"dataframe\">\n",
       "  <thead>\n",
       "    <tr style=\"text-align: right;\">\n",
       "      <th></th>\n",
       "      <th>centroid</th>\n",
       "      <th>clusters</th>\n",
       "    </tr>\n",
       "  </thead>\n",
       "  <tbody>\n",
       "    <tr>\n",
       "      <th>0</th>\n",
       "      <td>matrix</td>\n",
       "      <td>Kavruk, Matrix, Parrilo, math ufl, matrices, m...</td>\n",
       "    </tr>\n",
       "    <tr>\n",
       "      <th>1</th>\n",
       "      <td>unitary</td>\n",
       "      <td>Iwasaki, McCarthy, Primary, Putinar, Similarly...</td>\n",
       "    </tr>\n",
       "    <tr>\n",
       "      <th>2</th>\n",
       "      <td>circular</td>\n",
       "      <td>Circular, Corollary, bipolar, calculus, circul...</td>\n",
       "    </tr>\n",
       "    <tr>\n",
       "      <th>3</th>\n",
       "      <td>pencil</td>\n",
       "      <td>Appendix, Berezin, Council, Francis, Manuscrip...</td>\n",
       "    </tr>\n",
       "    <tr>\n",
       "      <th>4</th>\n",
       "      <td>convex</td>\n",
       "      <td>Convex, context, convex, convexEW, longest</td>\n",
       "    </tr>\n",
       "  </tbody>\n",
       "</table>\n",
       "</div>"
      ],
      "text/plain": [
       "   centroid                                           clusters\n",
       "0    matrix  Kavruk, Matrix, Parrilo, math ufl, matrices, m...\n",
       "1   unitary  Iwasaki, McCarthy, Primary, Putinar, Similarly...\n",
       "2  circular  Circular, Corollary, bipolar, calculus, circul...\n",
       "3    pencil  Appendix, Berezin, Council, Francis, Manuscrip...\n",
       "4    convex         Convex, context, convex, convexEW, longest"
      ]
     },
     "execution_count": 28,
     "metadata": {},
     "output_type": "execute_result"
    }
   ],
   "source": [
    "cluster_df.head()"
   ]
  },
  {
   "cell_type": "code",
   "execution_count": 30,
   "metadata": {
    "collapsed": true
   },
   "outputs": [],
   "source": [
    "cluster_df.to_csv('..\\..\\CSV\\Parsed Data\\Clusters.csv')"
   ]
  },
  {
   "cell_type": "code",
   "execution_count": 3,
   "metadata": {},
   "outputs": [],
   "source": [
    "All_df = pd.read_csv('..\\..\\CSV\\Parsed Data\\All.csv')"
   ]
  },
  {
   "cell_type": "code",
   "execution_count": 4,
   "metadata": {},
   "outputs": [
    {
     "data": {
      "text/html": [
       "<div>\n",
       "<style>\n",
       "    .dataframe thead tr:only-child th {\n",
       "        text-align: right;\n",
       "    }\n",
       "\n",
       "    .dataframe thead th {\n",
       "        text-align: left;\n",
       "    }\n",
       "\n",
       "    .dataframe tbody tr th {\n",
       "        vertical-align: top;\n",
       "    }\n",
       "</style>\n",
       "<table border=\"1\" class=\"dataframe\">\n",
       "  <thead>\n",
       "    <tr style=\"text-align: right;\">\n",
       "      <th></th>\n",
       "      <th>word</th>\n",
       "      <th>n_gram_score</th>\n",
       "      <th>pos</th>\n",
       "      <th>frequency</th>\n",
       "      <th>tf_idf</th>\n",
       "      <th>inf</th>\n",
       "      <th>source</th>\n",
       "    </tr>\n",
       "  </thead>\n",
       "  <tbody>\n",
       "    <tr>\n",
       "      <th>0</th>\n",
       "      <td>free</td>\n",
       "      <td>2</td>\n",
       "      <td>JJ</td>\n",
       "      <td>100</td>\n",
       "      <td>0.089085</td>\n",
       "      <td>-0.018282</td>\n",
       "      <td>1</td>\n",
       "    </tr>\n",
       "    <tr>\n",
       "      <th>1</th>\n",
       "      <td>matrix</td>\n",
       "      <td>2</td>\n",
       "      <td>NN</td>\n",
       "      <td>62</td>\n",
       "      <td>0.055232</td>\n",
       "      <td>-0.013575</td>\n",
       "      <td>1</td>\n",
       "    </tr>\n",
       "    <tr>\n",
       "      <th>2</th>\n",
       "      <td>unitary</td>\n",
       "      <td>2</td>\n",
       "      <td>JJ</td>\n",
       "      <td>42</td>\n",
       "      <td>0.037416</td>\n",
       "      <td>-0.010433</td>\n",
       "      <td>1</td>\n",
       "    </tr>\n",
       "    <tr>\n",
       "      <th>3</th>\n",
       "      <td>follows</td>\n",
       "      <td>2</td>\n",
       "      <td>VBZ</td>\n",
       "      <td>40</td>\n",
       "      <td>0.035634</td>\n",
       "      <td>-0.010084</td>\n",
       "      <td>1</td>\n",
       "    </tr>\n",
       "    <tr>\n",
       "      <th>4</th>\n",
       "      <td>matrices</td>\n",
       "      <td>2</td>\n",
       "      <td>NNS</td>\n",
       "      <td>38</td>\n",
       "      <td>0.033852</td>\n",
       "      <td>-0.009727</td>\n",
       "      <td>1</td>\n",
       "    </tr>\n",
       "  </tbody>\n",
       "</table>\n",
       "</div>"
      ],
      "text/plain": [
       "       word  n_gram_score  pos  frequency    tf_idf       inf  source\n",
       "0      free             2   JJ        100  0.089085 -0.018282       1\n",
       "1    matrix             2   NN         62  0.055232 -0.013575       1\n",
       "2   unitary             2   JJ         42  0.037416 -0.010433       1\n",
       "3   follows             2  VBZ         40  0.035634 -0.010084       1\n",
       "4  matrices             2  NNS         38  0.033852 -0.009727       1"
      ]
     },
     "execution_count": 4,
     "metadata": {},
     "output_type": "execute_result"
    }
   ],
   "source": [
    "All_df.head()"
   ]
  },
  {
   "cell_type": "code",
   "execution_count": 5,
   "metadata": {
    "collapsed": true
   },
   "outputs": [],
   "source": [
    "words_all=np.array(All_df['word'])"
   ]
  },
  {
   "cell_type": "code",
   "execution_count": 9,
   "metadata": {},
   "outputs": [],
   "source": [
    "lev_similarity = -1*np.array([[Levenshtein.distance(w1,w2) for w1 in words_all] for w2 in words_all])\n",
    "\n",
    "affprop = sklearn.cluster.AffinityPropagation(affinity=\"precomputed\", damping=0.5)\n",
    "affprop.fit(lev_similarity)\n",
    "centroids_All = []\n",
    "clusters_All=[]\n",
    "for cluster_id in np.unique(affprop.labels_):\n",
    "    exemplar = words_all[affprop.cluster_centers_indices_[cluster_id]]\n",
    "    cluster = np.unique(words_all[np.nonzero(affprop.labels_==cluster_id)])\n",
    "    cluster_str = \", \".join(cluster)\n",
    "    centroids_All.append(exemplar)\n",
    "    clusters_All.append(cluster_str)"
   ]
  },
  {
   "cell_type": "code",
   "execution_count": 10,
   "metadata": {
    "collapsed": true
   },
   "outputs": [],
   "source": [
    "cols = ['centroid','clusters']\n",
    "Cluster_df=pd.DataFrame(columns=cols)\n",
    "Cluster_df['centroid']=centroids_All\n",
    "Cluster_df['clusters']=clusters_All"
   ]
  },
  {
   "cell_type": "code",
   "execution_count": 15,
   "metadata": {
    "collapsed": true
   },
   "outputs": [],
   "source": [
    "Cluster_df.to_csv('..\\..\\CSV\\Parsed Data\\Clusters_All.csv')"
   ]
  },
  {
   "cell_type": "code",
   "execution_count": 11,
   "metadata": {},
   "outputs": [
    {
     "data": {
      "text/html": [
       "<div>\n",
       "<style>\n",
       "    .dataframe thead tr:only-child th {\n",
       "        text-align: right;\n",
       "    }\n",
       "\n",
       "    .dataframe thead th {\n",
       "        text-align: left;\n",
       "    }\n",
       "\n",
       "    .dataframe tbody tr th {\n",
       "        vertical-align: top;\n",
       "    }\n",
       "</style>\n",
       "<table border=\"1\" class=\"dataframe\">\n",
       "  <thead>\n",
       "    <tr style=\"text-align: right;\">\n",
       "      <th></th>\n",
       "      <th>centroid</th>\n",
       "      <th>clusters</th>\n",
       "    </tr>\n",
       "  </thead>\n",
       "  <tbody>\n",
       "    <tr>\n",
       "      <th>0</th>\n",
       "      <td>free</td>\n",
       "      <td>Drell, Free, Freese, Frem, Green, Street, agre...</td>\n",
       "    </tr>\n",
       "    <tr>\n",
       "      <th>1</th>\n",
       "      <td>matrix</td>\n",
       "      <td>Harry-Dym, Kavruk, Matrix, Parrilo, Ratiu, had...</td>\n",
       "    </tr>\n",
       "    <tr>\n",
       "      <th>2</th>\n",
       "      <td>unitary</td>\n",
       "      <td>FuOn FOOO, Hagiwara, Library, Putinar, Solitar...</td>\n",
       "    </tr>\n",
       "    <tr>\n",
       "      <th>3</th>\n",
       "      <td>free circular</td>\n",
       "      <td>Free Circular, free circular, free convexity</td>\n",
       "    </tr>\n",
       "    <tr>\n",
       "      <th>4</th>\n",
       "      <td>linear</td>\n",
       "      <td>Eitner, Hungar, LevineTabor, Linear, LlibreZha...</td>\n",
       "    </tr>\n",
       "  </tbody>\n",
       "</table>\n",
       "</div>"
      ],
      "text/plain": [
       "        centroid                                           clusters\n",
       "0           free  Drell, Free, Freese, Frem, Green, Street, agre...\n",
       "1         matrix  Harry-Dym, Kavruk, Matrix, Parrilo, Ratiu, had...\n",
       "2        unitary  FuOn FOOO, Hagiwara, Library, Putinar, Solitar...\n",
       "3  free circular       Free Circular, free circular, free convexity\n",
       "4         linear  Eitner, Hungar, LevineTabor, Linear, LlibreZha..."
      ]
     },
     "execution_count": 11,
     "metadata": {},
     "output_type": "execute_result"
    }
   ],
   "source": [
    "Cluster_df.head()"
   ]
  },
  {
   "cell_type": "code",
   "execution_count": 14,
   "metadata": {},
   "outputs": [
    {
     "ename": "TypeError",
     "evalue": "'tuple' object is not callable",
     "output_type": "error",
     "traceback": [
      "\u001b[1;31m---------------------------------------------------------------------------\u001b[0m",
      "\u001b[1;31mTypeError\u001b[0m                                 Traceback (most recent call last)",
      "\u001b[1;32m<ipython-input-14-8aedcf0dbd32>\u001b[0m in \u001b[0;36m<module>\u001b[1;34m()\u001b[0m\n\u001b[1;32m----> 1\u001b[1;33m \u001b[0mCluster_df\u001b[0m\u001b[1;33m.\u001b[0m\u001b[0mshape\u001b[0m\u001b[1;33m(\u001b[0m\u001b[1;33m)\u001b[0m\u001b[1;33m\u001b[0m\u001b[0m\n\u001b[0m",
      "\u001b[1;31mTypeError\u001b[0m: 'tuple' object is not callable"
     ]
    }
   ],
   "source": [
    "Cluster_df.shape()"
   ]
  },
  {
   "cell_type": "code",
   "execution_count": 23,
   "metadata": {},
   "outputs": [
    {
     "data": {
      "text/html": [
       "<div>\n",
       "<style>\n",
       "    .dataframe thead tr:only-child th {\n",
       "        text-align: right;\n",
       "    }\n",
       "\n",
       "    .dataframe thead th {\n",
       "        text-align: left;\n",
       "    }\n",
       "\n",
       "    .dataframe tbody tr th {\n",
       "        vertical-align: top;\n",
       "    }\n",
       "</style>\n",
       "<table border=\"1\" class=\"dataframe\">\n",
       "  <thead>\n",
       "    <tr style=\"text-align: right;\">\n",
       "      <th></th>\n",
       "      <th>word</th>\n",
       "      <th>n_gram_score</th>\n",
       "      <th>pos</th>\n",
       "      <th>frequency</th>\n",
       "      <th>wordCount</th>\n",
       "      <th>match_count</th>\n",
       "      <th>volume_count</th>\n",
       "      <th>source</th>\n",
       "    </tr>\n",
       "  </thead>\n",
       "  <tbody>\n",
       "    <tr>\n",
       "      <th>0</th>\n",
       "      <td>energy</td>\n",
       "      <td>2</td>\n",
       "      <td>NN</td>\n",
       "      <td>3096</td>\n",
       "      <td>145045</td>\n",
       "      <td>43507422</td>\n",
       "      <td>2246600</td>\n",
       "      <td>1</td>\n",
       "    </tr>\n",
       "    <tr>\n",
       "      <th>1</th>\n",
       "      <td>negative</td>\n",
       "      <td>2</td>\n",
       "      <td>JJ</td>\n",
       "      <td>1757</td>\n",
       "      <td>145045</td>\n",
       "      <td>23210294</td>\n",
       "      <td>1900108</td>\n",
       "      <td>1</td>\n",
       "    </tr>\n",
       "    <tr>\n",
       "      <th>2</th>\n",
       "      <td>positive</td>\n",
       "      <td>2</td>\n",
       "      <td>JJ</td>\n",
       "      <td>1162</td>\n",
       "      <td>145045</td>\n",
       "      <td>29305049</td>\n",
       "      <td>2193038</td>\n",
       "      <td>1</td>\n",
       "    </tr>\n",
       "    <tr>\n",
       "      <th>3</th>\n",
       "      <td>gravitational</td>\n",
       "      <td>2</td>\n",
       "      <td>JJ</td>\n",
       "      <td>1003</td>\n",
       "      <td>145045</td>\n",
       "      <td>1074269</td>\n",
       "      <td>152691</td>\n",
       "      <td>1</td>\n",
       "    </tr>\n",
       "    <tr>\n",
       "      <th>4</th>\n",
       "      <td>symmetry</td>\n",
       "      <td>2</td>\n",
       "      <td>NN</td>\n",
       "      <td>994</td>\n",
       "      <td>145045</td>\n",
       "      <td>3025452</td>\n",
       "      <td>545690</td>\n",
       "      <td>1</td>\n",
       "    </tr>\n",
       "  </tbody>\n",
       "</table>\n",
       "</div>"
      ],
      "text/plain": [
       "            word  n_gram_score pos  frequency  wordCount  match_count  \\\n",
       "0         energy             2  NN       3096     145045     43507422   \n",
       "1       negative             2  JJ       1757     145045     23210294   \n",
       "2       positive             2  JJ       1162     145045     29305049   \n",
       "3  gravitational             2  JJ       1003     145045      1074269   \n",
       "4       symmetry             2  NN        994     145045      3025452   \n",
       "\n",
       "   volume_count  source  \n",
       "0       2246600       1  \n",
       "1       1900108       1  \n",
       "2       2193038       1  \n",
       "3        152691       1  \n",
       "4        545690       1  "
      ]
     },
     "execution_count": 23,
     "metadata": {},
     "output_type": "execute_result"
    }
   ],
   "source": [
    "Matters_df = pd.read_csv('..\\..\\CSV\\Parsed Data\\Matters_Properties.csv')\n",
    "Matters_df.head()"
   ]
  },
  {
   "cell_type": "code",
   "execution_count": 24,
   "metadata": {
    "collapsed": true
   },
   "outputs": [],
   "source": [
    "words_Matters=np.array(Matters_df['word'])"
   ]
  },
  {
   "cell_type": "code",
   "execution_count": null,
   "metadata": {},
   "outputs": [],
   "source": [
    "lev_similarity = -1*np.array([[Levenshtein.distance(w1,w2) for w1 in words_Matters] for w2 in words_Matters])\n",
    "\n",
    "affprop = sklearn.cluster.AffinityPropagation(affinity=\"precomputed\", damping=0.5)\n",
    "affprop.fit(lev_similarity)\n",
    "centroids_Matters = []\n",
    "clusters_Matters=[]\n",
    "for cluster_id in np.unique(affprop.labels_):\n",
    "    exemplar = words_Matters[affprop.cluster_centers_indices_[cluster_id]]\n",
    "    cluster = np.unique(words_Matters[np.nonzero(affprop.labels_==cluster_id)])\n",
    "    cluster_str = \", \".join(cluster)\n",
    "    centroids_Matters.append(exemplar)\n",
    "    clusters_Matters.append(cluster_str)"
   ]
  },
  {
   "cell_type": "code",
   "execution_count": null,
   "metadata": {
    "collapsed": true
   },
   "outputs": [],
   "source": [
    "cols = ['centroid','clusters']\n",
    "Matters_df=pd.DataFrame(columns=cols)\n",
    "Matters_df['centroid']=centroids_Matters\n",
    "Matters_df['clusters']=clusters_Matters\n",
    "Matters_df.to_csv('..\\..\\CSV\\Parsed Data\\Clusters_Matters.csv')"
   ]
  },
  {
   "cell_type": "code",
   "execution_count": null,
   "metadata": {
    "collapsed": true
   },
   "outputs": [],
   "source": []
  }
 ],
 "metadata": {
  "kernelspec": {
   "display_name": "Python 3",
   "language": "python",
   "name": "python3"
  },
  "language_info": {
   "codemirror_mode": {
    "name": "ipython",
    "version": 3
   },
   "file_extension": ".py",
   "mimetype": "text/x-python",
   "name": "python",
   "nbconvert_exporter": "python",
   "pygments_lexer": "ipython3",
   "version": "3.6.2"
  }
 },
 "nbformat": 4,
 "nbformat_minor": 2
}
